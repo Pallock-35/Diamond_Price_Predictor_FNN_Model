{
 "cells": [
  {
   "cell_type": "markdown",
   "id": "30ab2cb4-1e74-4fa6-9dab-83a1c493641f",
   "metadata": {},
   "source": [
    "### Import the libraries "
   ]
  },
  {
   "cell_type": "code",
   "execution_count": 3,
   "id": "57396089-5247-40ec-8cce-31de823dcb67",
   "metadata": {},
   "outputs": [],
   "source": [
    "import numpy as np\n",
    "import pandas as pd\n",
    "import tensorflow as tf\n",
    "from tensorflow.keras.models import Sequential\n",
    "from tensorflow.keras.layers import Input, Dense, Dropout\n",
    "from tensorflow.keras.optimizers import Adam\n",
    "from tensorflow.keras.activations import swish\n",
    "from sklearn.preprocessing import LabelEncoder, MinMaxScaler\n",
    "from sklearn.model_selection import train_test_split\n",
    "import matplotlib.pyplot as plt"
   ]
  },
  {
   "cell_type": "markdown",
   "id": "55516e95-f262-4181-b5d5-49d4034e285b",
   "metadata": {},
   "source": [
    "### Read the CSV File"
   ]
  },
  {
   "cell_type": "code",
   "execution_count": 5,
   "id": "7456bfd1-7ad4-4359-8c13-4e1112087c33",
   "metadata": {},
   "outputs": [],
   "source": [
    "df = pd.read_csv(\"gemstone.csv\")"
   ]
  },
  {
   "cell_type": "code",
   "execution_count": 6,
   "id": "54b8c146-7409-4ed9-8db0-ba903c923f2c",
   "metadata": {},
   "outputs": [
    {
     "data": {
      "text/html": [
       "<div>\n",
       "<style scoped>\n",
       "    .dataframe tbody tr th:only-of-type {\n",
       "        vertical-align: middle;\n",
       "    }\n",
       "\n",
       "    .dataframe tbody tr th {\n",
       "        vertical-align: top;\n",
       "    }\n",
       "\n",
       "    .dataframe thead th {\n",
       "        text-align: right;\n",
       "    }\n",
       "</style>\n",
       "<table border=\"1\" class=\"dataframe\">\n",
       "  <thead>\n",
       "    <tr style=\"text-align: right;\">\n",
       "      <th></th>\n",
       "      <th>id</th>\n",
       "      <th>carat</th>\n",
       "      <th>cut</th>\n",
       "      <th>color</th>\n",
       "      <th>clarity</th>\n",
       "      <th>depth</th>\n",
       "      <th>table</th>\n",
       "      <th>x</th>\n",
       "      <th>y</th>\n",
       "      <th>z</th>\n",
       "      <th>price</th>\n",
       "    </tr>\n",
       "  </thead>\n",
       "  <tbody>\n",
       "    <tr>\n",
       "      <th>0</th>\n",
       "      <td>0</td>\n",
       "      <td>1.52</td>\n",
       "      <td>Premium</td>\n",
       "      <td>F</td>\n",
       "      <td>VS2</td>\n",
       "      <td>62.2</td>\n",
       "      <td>58.0</td>\n",
       "      <td>7.27</td>\n",
       "      <td>7.33</td>\n",
       "      <td>4.55</td>\n",
       "      <td>13619</td>\n",
       "    </tr>\n",
       "    <tr>\n",
       "      <th>1</th>\n",
       "      <td>1</td>\n",
       "      <td>2.03</td>\n",
       "      <td>Very Good</td>\n",
       "      <td>J</td>\n",
       "      <td>SI2</td>\n",
       "      <td>62.0</td>\n",
       "      <td>58.0</td>\n",
       "      <td>8.06</td>\n",
       "      <td>8.12</td>\n",
       "      <td>5.05</td>\n",
       "      <td>13387</td>\n",
       "    </tr>\n",
       "    <tr>\n",
       "      <th>2</th>\n",
       "      <td>2</td>\n",
       "      <td>0.70</td>\n",
       "      <td>Ideal</td>\n",
       "      <td>G</td>\n",
       "      <td>VS1</td>\n",
       "      <td>61.2</td>\n",
       "      <td>57.0</td>\n",
       "      <td>5.69</td>\n",
       "      <td>5.73</td>\n",
       "      <td>3.50</td>\n",
       "      <td>2772</td>\n",
       "    </tr>\n",
       "    <tr>\n",
       "      <th>3</th>\n",
       "      <td>3</td>\n",
       "      <td>0.32</td>\n",
       "      <td>Ideal</td>\n",
       "      <td>G</td>\n",
       "      <td>VS1</td>\n",
       "      <td>61.6</td>\n",
       "      <td>56.0</td>\n",
       "      <td>4.38</td>\n",
       "      <td>4.41</td>\n",
       "      <td>2.71</td>\n",
       "      <td>666</td>\n",
       "    </tr>\n",
       "    <tr>\n",
       "      <th>4</th>\n",
       "      <td>4</td>\n",
       "      <td>1.70</td>\n",
       "      <td>Premium</td>\n",
       "      <td>G</td>\n",
       "      <td>VS2</td>\n",
       "      <td>62.6</td>\n",
       "      <td>59.0</td>\n",
       "      <td>7.65</td>\n",
       "      <td>7.61</td>\n",
       "      <td>4.77</td>\n",
       "      <td>14453</td>\n",
       "    </tr>\n",
       "  </tbody>\n",
       "</table>\n",
       "</div>"
      ],
      "text/plain": [
       "   id  carat        cut color clarity  depth  table     x     y     z  price\n",
       "0   0   1.52    Premium     F     VS2   62.2   58.0  7.27  7.33  4.55  13619\n",
       "1   1   2.03  Very Good     J     SI2   62.0   58.0  8.06  8.12  5.05  13387\n",
       "2   2   0.70      Ideal     G     VS1   61.2   57.0  5.69  5.73  3.50   2772\n",
       "3   3   0.32      Ideal     G     VS1   61.6   56.0  4.38  4.41  2.71    666\n",
       "4   4   1.70    Premium     G     VS2   62.6   59.0  7.65  7.61  4.77  14453"
      ]
     },
     "execution_count": 6,
     "metadata": {},
     "output_type": "execute_result"
    }
   ],
   "source": [
    "df.head()"
   ]
  },
  {
   "cell_type": "markdown",
   "id": "7fe3610d-b081-4458-aebb-69a4293dbcac",
   "metadata": {},
   "source": [
    "##### We don't need the id column, so drop it"
   ]
  },
  {
   "cell_type": "code",
   "execution_count": 8,
   "id": "e0d7d14b-3dc6-4288-8263-b86a3a665ee5",
   "metadata": {},
   "outputs": [],
   "source": [
    "df = df.drop(labels = [\"id\"], axis = 1)"
   ]
  },
  {
   "cell_type": "code",
   "execution_count": 9,
   "id": "ba17123a-43f4-4f89-9005-a6bf4cd5e6ea",
   "metadata": {},
   "outputs": [
    {
     "data": {
      "text/html": [
       "<div>\n",
       "<style scoped>\n",
       "    .dataframe tbody tr th:only-of-type {\n",
       "        vertical-align: middle;\n",
       "    }\n",
       "\n",
       "    .dataframe tbody tr th {\n",
       "        vertical-align: top;\n",
       "    }\n",
       "\n",
       "    .dataframe thead th {\n",
       "        text-align: right;\n",
       "    }\n",
       "</style>\n",
       "<table border=\"1\" class=\"dataframe\">\n",
       "  <thead>\n",
       "    <tr style=\"text-align: right;\">\n",
       "      <th></th>\n",
       "      <th>carat</th>\n",
       "      <th>depth</th>\n",
       "      <th>table</th>\n",
       "      <th>x</th>\n",
       "      <th>y</th>\n",
       "      <th>z</th>\n",
       "      <th>price</th>\n",
       "    </tr>\n",
       "  </thead>\n",
       "  <tbody>\n",
       "    <tr>\n",
       "      <th>count</th>\n",
       "      <td>193573.000000</td>\n",
       "      <td>193573.000000</td>\n",
       "      <td>193573.000000</td>\n",
       "      <td>193573.000000</td>\n",
       "      <td>193573.000000</td>\n",
       "      <td>193573.000000</td>\n",
       "      <td>193573.000000</td>\n",
       "    </tr>\n",
       "    <tr>\n",
       "      <th>mean</th>\n",
       "      <td>0.790688</td>\n",
       "      <td>61.820574</td>\n",
       "      <td>57.227675</td>\n",
       "      <td>5.715312</td>\n",
       "      <td>5.720094</td>\n",
       "      <td>3.534246</td>\n",
       "      <td>3969.155414</td>\n",
       "    </tr>\n",
       "    <tr>\n",
       "      <th>std</th>\n",
       "      <td>0.462688</td>\n",
       "      <td>1.081704</td>\n",
       "      <td>1.918844</td>\n",
       "      <td>1.109422</td>\n",
       "      <td>1.102333</td>\n",
       "      <td>0.688922</td>\n",
       "      <td>4034.374138</td>\n",
       "    </tr>\n",
       "    <tr>\n",
       "      <th>min</th>\n",
       "      <td>0.200000</td>\n",
       "      <td>52.100000</td>\n",
       "      <td>49.000000</td>\n",
       "      <td>0.000000</td>\n",
       "      <td>0.000000</td>\n",
       "      <td>0.000000</td>\n",
       "      <td>326.000000</td>\n",
       "    </tr>\n",
       "    <tr>\n",
       "      <th>25%</th>\n",
       "      <td>0.400000</td>\n",
       "      <td>61.300000</td>\n",
       "      <td>56.000000</td>\n",
       "      <td>4.700000</td>\n",
       "      <td>4.710000</td>\n",
       "      <td>2.900000</td>\n",
       "      <td>951.000000</td>\n",
       "    </tr>\n",
       "    <tr>\n",
       "      <th>50%</th>\n",
       "      <td>0.700000</td>\n",
       "      <td>61.900000</td>\n",
       "      <td>57.000000</td>\n",
       "      <td>5.700000</td>\n",
       "      <td>5.720000</td>\n",
       "      <td>3.530000</td>\n",
       "      <td>2401.000000</td>\n",
       "    </tr>\n",
       "    <tr>\n",
       "      <th>75%</th>\n",
       "      <td>1.030000</td>\n",
       "      <td>62.400000</td>\n",
       "      <td>58.000000</td>\n",
       "      <td>6.510000</td>\n",
       "      <td>6.510000</td>\n",
       "      <td>4.030000</td>\n",
       "      <td>5408.000000</td>\n",
       "    </tr>\n",
       "    <tr>\n",
       "      <th>max</th>\n",
       "      <td>3.500000</td>\n",
       "      <td>71.600000</td>\n",
       "      <td>79.000000</td>\n",
       "      <td>9.650000</td>\n",
       "      <td>10.010000</td>\n",
       "      <td>31.300000</td>\n",
       "      <td>18818.000000</td>\n",
       "    </tr>\n",
       "  </tbody>\n",
       "</table>\n",
       "</div>"
      ],
      "text/plain": [
       "               carat          depth          table              x  \\\n",
       "count  193573.000000  193573.000000  193573.000000  193573.000000   \n",
       "mean        0.790688      61.820574      57.227675       5.715312   \n",
       "std         0.462688       1.081704       1.918844       1.109422   \n",
       "min         0.200000      52.100000      49.000000       0.000000   \n",
       "25%         0.400000      61.300000      56.000000       4.700000   \n",
       "50%         0.700000      61.900000      57.000000       5.700000   \n",
       "75%         1.030000      62.400000      58.000000       6.510000   \n",
       "max         3.500000      71.600000      79.000000       9.650000   \n",
       "\n",
       "                   y              z          price  \n",
       "count  193573.000000  193573.000000  193573.000000  \n",
       "mean        5.720094       3.534246    3969.155414  \n",
       "std         1.102333       0.688922    4034.374138  \n",
       "min         0.000000       0.000000     326.000000  \n",
       "25%         4.710000       2.900000     951.000000  \n",
       "50%         5.720000       3.530000    2401.000000  \n",
       "75%         6.510000       4.030000    5408.000000  \n",
       "max        10.010000      31.300000   18818.000000  "
      ]
     },
     "execution_count": 9,
     "metadata": {},
     "output_type": "execute_result"
    }
   ],
   "source": [
    "df.describe()"
   ]
  },
  {
   "cell_type": "markdown",
   "id": "61ac0403-7117-45fb-a067-40cdc18368c5",
   "metadata": {},
   "source": [
    "#### Dropping dimentionless features from columns x, y, and z"
   ]
  },
  {
   "cell_type": "code",
   "execution_count": 11,
   "id": "84990186-4a67-4c60-b8f1-6539e805e9c9",
   "metadata": {},
   "outputs": [
    {
     "data": {
      "text/plain": [
       "(193563, 10)"
      ]
     },
     "execution_count": 11,
     "metadata": {},
     "output_type": "execute_result"
    }
   ],
   "source": [
    "df = df.drop(df[df[\"x\"]==0].index)\n",
    "df = df.drop(df[df[\"y\"]==0].index)\n",
    "df = df.drop(df[df[\"z\"]==0].index)\n",
    "df.shape"
   ]
  },
  {
   "cell_type": "markdown",
   "id": "74213533-0a33-4d78-bc5c-f94227b7df4e",
   "metadata": {},
   "source": [
    "### Eliminating the outliers from depth, table, y and z columns "
   ]
  },
  {
   "cell_type": "code",
   "execution_count": 13,
   "id": "a3e59d9f-6821-45f6-9605-836e81d845d7",
   "metadata": {},
   "outputs": [
    {
     "data": {
      "text/plain": [
       "(193561, 10)"
      ]
     },
     "execution_count": 13,
     "metadata": {},
     "output_type": "execute_result"
    }
   ],
   "source": [
    "df = df[(df[\"depth\"]<75)&(df[\"depth\"]>45)]\n",
    "df = df[(df[\"table\"]<80)&(df[\"table\"]>40)]\n",
    "df = df[(df[\"x\"]<30)]\n",
    "df = df[(df[\"y\"]<30)]\n",
    "df = df[(df[\"z\"]<30)&(df[\"z\"]>2)]\n",
    "df.shape"
   ]
  },
  {
   "cell_type": "markdown",
   "id": "279f3189-c6e9-4556-bdfe-971573ced14f",
   "metadata": {},
   "source": [
    "##### Let us split the dataset into X(features) and y(labels)"
   ]
  },
  {
   "cell_type": "code",
   "execution_count": 15,
   "id": "cc308ae0-7bca-4a03-ae04-a56183b06fa8",
   "metadata": {},
   "outputs": [],
   "source": [
    "X = df.drop(labels=[\"price\"], axis=1)\n",
    "y = df[[\"price\"]]"
   ]
  },
  {
   "cell_type": "markdown",
   "id": "fddc0ec5-3d00-4385-97c5-bdc0719209a5",
   "metadata": {},
   "source": [
    "##### We can change the columns CUT, COLOR, Clarity from qualitative into numerical, by using LabelEncoder"
   ]
  },
  {
   "cell_type": "code",
   "execution_count": 17,
   "id": "6f074194-9a53-4695-8ec5-13f63c7e0c68",
   "metadata": {},
   "outputs": [],
   "source": [
    "label_encoder = LabelEncoder()\n",
    "##X[\"cut\", \"color\", \"clarity\"] = label_encoder.fit_transform(X[\"cut\", \"color\", \"clarity\"]) it doesn't work altogether\n",
    "X[\"cut\"] = label_encoder.fit_transform(X[\"cut\"])\n",
    "X[\"color\"] = label_encoder.fit_transform(X[\"color\"])\n",
    "X[\"clarity\"] = label_encoder.fit_transform(X[\"clarity\"])"
   ]
  },
  {
   "cell_type": "code",
   "execution_count": 18,
   "id": "7c750b86-b3aa-455f-bfbc-08be9b34ac04",
   "metadata": {},
   "outputs": [
    {
     "data": {
      "text/html": [
       "<div>\n",
       "<style scoped>\n",
       "    .dataframe tbody tr th:only-of-type {\n",
       "        vertical-align: middle;\n",
       "    }\n",
       "\n",
       "    .dataframe tbody tr th {\n",
       "        vertical-align: top;\n",
       "    }\n",
       "\n",
       "    .dataframe thead th {\n",
       "        text-align: right;\n",
       "    }\n",
       "</style>\n",
       "<table border=\"1\" class=\"dataframe\">\n",
       "  <thead>\n",
       "    <tr style=\"text-align: right;\">\n",
       "      <th></th>\n",
       "      <th>carat</th>\n",
       "      <th>cut</th>\n",
       "      <th>color</th>\n",
       "      <th>clarity</th>\n",
       "      <th>depth</th>\n",
       "      <th>table</th>\n",
       "      <th>x</th>\n",
       "      <th>y</th>\n",
       "      <th>z</th>\n",
       "    </tr>\n",
       "  </thead>\n",
       "  <tbody>\n",
       "    <tr>\n",
       "      <th>0</th>\n",
       "      <td>1.52</td>\n",
       "      <td>3</td>\n",
       "      <td>2</td>\n",
       "      <td>5</td>\n",
       "      <td>62.2</td>\n",
       "      <td>58.0</td>\n",
       "      <td>7.27</td>\n",
       "      <td>7.33</td>\n",
       "      <td>4.55</td>\n",
       "    </tr>\n",
       "    <tr>\n",
       "      <th>1</th>\n",
       "      <td>2.03</td>\n",
       "      <td>4</td>\n",
       "      <td>6</td>\n",
       "      <td>3</td>\n",
       "      <td>62.0</td>\n",
       "      <td>58.0</td>\n",
       "      <td>8.06</td>\n",
       "      <td>8.12</td>\n",
       "      <td>5.05</td>\n",
       "    </tr>\n",
       "    <tr>\n",
       "      <th>2</th>\n",
       "      <td>0.70</td>\n",
       "      <td>2</td>\n",
       "      <td>3</td>\n",
       "      <td>4</td>\n",
       "      <td>61.2</td>\n",
       "      <td>57.0</td>\n",
       "      <td>5.69</td>\n",
       "      <td>5.73</td>\n",
       "      <td>3.50</td>\n",
       "    </tr>\n",
       "    <tr>\n",
       "      <th>3</th>\n",
       "      <td>0.32</td>\n",
       "      <td>2</td>\n",
       "      <td>3</td>\n",
       "      <td>4</td>\n",
       "      <td>61.6</td>\n",
       "      <td>56.0</td>\n",
       "      <td>4.38</td>\n",
       "      <td>4.41</td>\n",
       "      <td>2.71</td>\n",
       "    </tr>\n",
       "    <tr>\n",
       "      <th>4</th>\n",
       "      <td>1.70</td>\n",
       "      <td>3</td>\n",
       "      <td>3</td>\n",
       "      <td>5</td>\n",
       "      <td>62.6</td>\n",
       "      <td>59.0</td>\n",
       "      <td>7.65</td>\n",
       "      <td>7.61</td>\n",
       "      <td>4.77</td>\n",
       "    </tr>\n",
       "  </tbody>\n",
       "</table>\n",
       "</div>"
      ],
      "text/plain": [
       "   carat  cut  color  clarity  depth  table     x     y     z\n",
       "0   1.52    3      2        5   62.2   58.0  7.27  7.33  4.55\n",
       "1   2.03    4      6        3   62.0   58.0  8.06  8.12  5.05\n",
       "2   0.70    2      3        4   61.2   57.0  5.69  5.73  3.50\n",
       "3   0.32    2      3        4   61.6   56.0  4.38  4.41  2.71\n",
       "4   1.70    3      3        5   62.6   59.0  7.65  7.61  4.77"
      ]
     },
     "execution_count": 18,
     "metadata": {},
     "output_type": "execute_result"
    }
   ],
   "source": [
    "X.head()"
   ]
  },
  {
   "cell_type": "markdown",
   "id": "c7f80b83-45fe-43e3-bcc5-3080ad39c358",
   "metadata": {},
   "source": [
    "#### To scale the values, we use MinMaxScaler in the dataset"
   ]
  },
  {
   "cell_type": "code",
   "execution_count": 20,
   "id": "424e4f3f-b02f-4c57-ba0f-c9ba949a4be8",
   "metadata": {},
   "outputs": [],
   "source": [
    "scaler = MinMaxScaler()\n",
    "scaled_features = scaler.fit_transform(X)\n",
    "scaled_label = scaler.fit_transform(y)"
   ]
  },
  {
   "cell_type": "markdown",
   "id": "799dbcaf-3a4f-4056-99a0-0b7cbd7aec15",
   "metadata": {},
   "source": [
    "#### Divide the data into train and test sets"
   ]
  },
  {
   "cell_type": "code",
   "execution_count": 22,
   "id": "9c15e2a0-4e38-4b06-9be3-807b13f3e177",
   "metadata": {},
   "outputs": [],
   "source": [
    "X_train, X_test, y_train, y_test = train_test_split(scaled_features, scaled_label, test_size=0.15, random_state=42)"
   ]
  },
  {
   "cell_type": "markdown",
   "id": "6d2de44f-a718-46d5-9251-9f4170f6c04a",
   "metadata": {},
   "source": [
    "##### Define the model structure"
   ]
  },
  {
   "cell_type": "code",
   "execution_count": 24,
   "id": "7c541696-0280-4e31-a4b5-dc9875fed2bf",
   "metadata": {},
   "outputs": [],
   "source": [
    "model =  Sequential()\n",
    "model.add(Input(shape=(9,)))\n",
    "\n",
    "model.add(Dense(256, activation=\"tanh\"))\n",
    "model.add(Dropout(0.3))\n",
    "model.add(Dense(256, activation=\"tanh\"))\n",
    "model.add(Dropout(0.2))\n",
    "model.add(Dense(128, activation=\"relu\"))\n",
    "model.add(Dropout(0.2))\n",
    "model.add(Dense(64, activation=\"relu\"))\n",
    "model.add(Dropout(0.2))\n",
    "\n",
    "model.add(Dense(1, activation=\"linear\"))"
   ]
  },
  {
   "cell_type": "code",
   "execution_count": 25,
   "id": "2919c4ed-f60a-4921-b99d-3b4383f75709",
   "metadata": {},
   "outputs": [],
   "source": [
    "model.compile(optimizer= Adam(),\n",
    "             loss= \"mse\",\n",
    "             metrics=[\"mae\"])"
   ]
  },
  {
   "cell_type": "code",
   "execution_count": 26,
   "id": "ab26e804-3c85-4770-9a8d-bd65f5e68ec4",
   "metadata": {},
   "outputs": [
    {
     "name": "stdout",
     "output_type": "stream",
     "text": [
      "Epoch 1/50\n",
      "\u001b[1m2633/2633\u001b[0m \u001b[32m━━━━━━━━━━━━━━━━━━━━\u001b[0m\u001b[37m\u001b[0m \u001b[1m7s\u001b[0m 2ms/step - loss: 0.0076 - mae: 0.0516 - val_loss: 0.0042 - val_mae: 0.0335\n",
      "Epoch 2/50\n",
      "\u001b[1m2633/2633\u001b[0m \u001b[32m━━━━━━━━━━━━━━━━━━━━\u001b[0m\u001b[37m\u001b[0m \u001b[1m5s\u001b[0m 2ms/step - loss: 0.0036 - mae: 0.0374 - val_loss: 0.0026 - val_mae: 0.0311\n",
      "Epoch 3/50\n",
      "\u001b[1m2633/2633\u001b[0m \u001b[32m━━━━━━━━━━━━━━━━━━━━\u001b[0m\u001b[37m\u001b[0m \u001b[1m5s\u001b[0m 2ms/step - loss: 0.0033 - mae: 0.0359 - val_loss: 0.0031 - val_mae: 0.0380\n",
      "Epoch 4/50\n",
      "\u001b[1m2633/2633\u001b[0m \u001b[32m━━━━━━━━━━━━━━━━━━━━\u001b[0m\u001b[37m\u001b[0m \u001b[1m5s\u001b[0m 2ms/step - loss: 0.0031 - mae: 0.0344 - val_loss: 0.0029 - val_mae: 0.0369\n",
      "Epoch 5/50\n",
      "\u001b[1m2633/2633\u001b[0m \u001b[32m━━━━━━━━━━━━━━━━━━━━\u001b[0m\u001b[37m\u001b[0m \u001b[1m5s\u001b[0m 2ms/step - loss: 0.0030 - mae: 0.0343 - val_loss: 0.0017 - val_mae: 0.0294\n",
      "Epoch 6/50\n",
      "\u001b[1m2633/2633\u001b[0m \u001b[32m━━━━━━━━━━━━━━━━━━━━\u001b[0m\u001b[37m\u001b[0m \u001b[1m5s\u001b[0m 2ms/step - loss: 0.0030 - mae: 0.0342 - val_loss: 0.0024 - val_mae: 0.0286\n",
      "Epoch 7/50\n",
      "\u001b[1m2633/2633\u001b[0m \u001b[32m━━━━━━━━━━━━━━━━━━━━\u001b[0m\u001b[37m\u001b[0m \u001b[1m5s\u001b[0m 2ms/step - loss: 0.0028 - mae: 0.0330 - val_loss: 0.0037 - val_mae: 0.0422\n",
      "Epoch 8/50\n",
      "\u001b[1m2633/2633\u001b[0m \u001b[32m━━━━━━━━━━━━━━━━━━━━\u001b[0m\u001b[37m\u001b[0m \u001b[1m5s\u001b[0m 2ms/step - loss: 0.0028 - mae: 0.0329 - val_loss: 0.0022 - val_mae: 0.0310\n",
      "Epoch 9/50\n",
      "\u001b[1m2633/2633\u001b[0m \u001b[32m━━━━━━━━━━━━━━━━━━━━\u001b[0m\u001b[37m\u001b[0m \u001b[1m5s\u001b[0m 2ms/step - loss: 0.0027 - mae: 0.0326 - val_loss: 0.0018 - val_mae: 0.0321\n",
      "Epoch 10/50\n",
      "\u001b[1m2633/2633\u001b[0m \u001b[32m━━━━━━━━━━━━━━━━━━━━\u001b[0m\u001b[37m\u001b[0m \u001b[1m5s\u001b[0m 2ms/step - loss: 0.0026 - mae: 0.0325 - val_loss: 0.0026 - val_mae: 0.0274\n",
      "Epoch 11/50\n",
      "\u001b[1m2633/2633\u001b[0m \u001b[32m━━━━━━━━━━━━━━━━━━━━\u001b[0m\u001b[37m\u001b[0m \u001b[1m5s\u001b[0m 2ms/step - loss: 0.0026 - mae: 0.0323 - val_loss: 0.0029 - val_mae: 0.0394\n",
      "Epoch 12/50\n",
      "\u001b[1m2633/2633\u001b[0m \u001b[32m━━━━━━━━━━━━━━━━━━━━\u001b[0m\u001b[37m\u001b[0m \u001b[1m5s\u001b[0m 2ms/step - loss: 0.0025 - mae: 0.0317 - val_loss: 0.0020 - val_mae: 0.0328\n",
      "Epoch 13/50\n",
      "\u001b[1m2633/2633\u001b[0m \u001b[32m━━━━━━━━━━━━━━━━━━━━\u001b[0m\u001b[37m\u001b[0m \u001b[1m5s\u001b[0m 2ms/step - loss: 0.0025 - mae: 0.0315 - val_loss: 0.0025 - val_mae: 0.0317\n",
      "Epoch 14/50\n",
      "\u001b[1m2633/2633\u001b[0m \u001b[32m━━━━━━━━━━━━━━━━━━━━\u001b[0m\u001b[37m\u001b[0m \u001b[1m5s\u001b[0m 2ms/step - loss: 0.0024 - mae: 0.0314 - val_loss: 0.0030 - val_mae: 0.0386\n",
      "Epoch 15/50\n",
      "\u001b[1m2633/2633\u001b[0m \u001b[32m━━━━━━━━━━━━━━━━━━━━\u001b[0m\u001b[37m\u001b[0m \u001b[1m5s\u001b[0m 2ms/step - loss: 0.0024 - mae: 0.0313 - val_loss: 0.0021 - val_mae: 0.0328\n",
      "Epoch 16/50\n",
      "\u001b[1m2633/2633\u001b[0m \u001b[32m━━━━━━━━━━━━━━━━━━━━\u001b[0m\u001b[37m\u001b[0m \u001b[1m5s\u001b[0m 2ms/step - loss: 0.0025 - mae: 0.0312 - val_loss: 0.0017 - val_mae: 0.0296\n",
      "Epoch 17/50\n",
      "\u001b[1m2633/2633\u001b[0m \u001b[32m━━━━━━━━━━━━━━━━━━━━\u001b[0m\u001b[37m\u001b[0m \u001b[1m5s\u001b[0m 2ms/step - loss: 0.0024 - mae: 0.0308 - val_loss: 0.0024 - val_mae: 0.0331\n",
      "Epoch 18/50\n",
      "\u001b[1m2633/2633\u001b[0m \u001b[32m━━━━━━━━━━━━━━━━━━━━\u001b[0m\u001b[37m\u001b[0m \u001b[1m5s\u001b[0m 2ms/step - loss: 0.0024 - mae: 0.0308 - val_loss: 0.0037 - val_mae: 0.0449\n",
      "Epoch 19/50\n",
      "\u001b[1m2633/2633\u001b[0m \u001b[32m━━━━━━━━━━━━━━━━━━━━\u001b[0m\u001b[37m\u001b[0m \u001b[1m5s\u001b[0m 2ms/step - loss: 0.0024 - mae: 0.0313 - val_loss: 0.0017 - val_mae: 0.0280\n",
      "Epoch 20/50\n",
      "\u001b[1m2633/2633\u001b[0m \u001b[32m━━━━━━━━━━━━━━━━━━━━\u001b[0m\u001b[37m\u001b[0m \u001b[1m5s\u001b[0m 2ms/step - loss: 0.0023 - mae: 0.0307 - val_loss: 0.0027 - val_mae: 0.0364\n",
      "Epoch 21/50\n",
      "\u001b[1m2633/2633\u001b[0m \u001b[32m━━━━━━━━━━━━━━━━━━━━\u001b[0m\u001b[37m\u001b[0m \u001b[1m5s\u001b[0m 2ms/step - loss: 0.0023 - mae: 0.0305 - val_loss: 0.0018 - val_mae: 0.0323\n",
      "Epoch 22/50\n",
      "\u001b[1m2633/2633\u001b[0m \u001b[32m━━━━━━━━━━━━━━━━━━━━\u001b[0m\u001b[37m\u001b[0m \u001b[1m5s\u001b[0m 2ms/step - loss: 0.0023 - mae: 0.0304 - val_loss: 0.0015 - val_mae: 0.0253\n",
      "Epoch 23/50\n",
      "\u001b[1m2633/2633\u001b[0m \u001b[32m━━━━━━━━━━━━━━━━━━━━\u001b[0m\u001b[37m\u001b[0m \u001b[1m5s\u001b[0m 2ms/step - loss: 0.0022 - mae: 0.0301 - val_loss: 0.0016 - val_mae: 0.0286\n",
      "Epoch 24/50\n",
      "\u001b[1m2633/2633\u001b[0m \u001b[32m━━━━━━━━━━━━━━━━━━━━\u001b[0m\u001b[37m\u001b[0m \u001b[1m5s\u001b[0m 2ms/step - loss: 0.0023 - mae: 0.0302 - val_loss: 0.0020 - val_mae: 0.0315\n",
      "Epoch 25/50\n",
      "\u001b[1m2633/2633\u001b[0m \u001b[32m━━━━━━━━━━━━━━━━━━━━\u001b[0m\u001b[37m\u001b[0m \u001b[1m5s\u001b[0m 2ms/step - loss: 0.0023 - mae: 0.0306 - val_loss: 0.0013 - val_mae: 0.0210\n",
      "Epoch 26/50\n",
      "\u001b[1m2633/2633\u001b[0m \u001b[32m━━━━━━━━━━━━━━━━━━━━\u001b[0m\u001b[37m\u001b[0m \u001b[1m5s\u001b[0m 2ms/step - loss: 0.0023 - mae: 0.0302 - val_loss: 0.0016 - val_mae: 0.0275\n",
      "Epoch 27/50\n",
      "\u001b[1m2633/2633\u001b[0m \u001b[32m━━━━━━━━━━━━━━━━━━━━\u001b[0m\u001b[37m\u001b[0m \u001b[1m5s\u001b[0m 2ms/step - loss: 0.0023 - mae: 0.0304 - val_loss: 0.0033 - val_mae: 0.0412\n",
      "Epoch 28/50\n",
      "\u001b[1m2633/2633\u001b[0m \u001b[32m━━━━━━━━━━━━━━━━━━━━\u001b[0m\u001b[37m\u001b[0m \u001b[1m5s\u001b[0m 2ms/step - loss: 0.0023 - mae: 0.0303 - val_loss: 0.0028 - val_mae: 0.0381\n",
      "Epoch 29/50\n",
      "\u001b[1m2633/2633\u001b[0m \u001b[32m━━━━━━━━━━━━━━━━━━━━\u001b[0m\u001b[37m\u001b[0m \u001b[1m5s\u001b[0m 2ms/step - loss: 0.0022 - mae: 0.0297 - val_loss: 0.0015 - val_mae: 0.0268\n",
      "Epoch 30/50\n",
      "\u001b[1m2633/2633\u001b[0m \u001b[32m━━━━━━━━━━━━━━━━━━━━\u001b[0m\u001b[37m\u001b[0m \u001b[1m5s\u001b[0m 2ms/step - loss: 0.0022 - mae: 0.0298 - val_loss: 0.0014 - val_mae: 0.0227\n",
      "Epoch 31/50\n",
      "\u001b[1m2633/2633\u001b[0m \u001b[32m━━━━━━━━━━━━━━━━━━━━\u001b[0m\u001b[37m\u001b[0m \u001b[1m5s\u001b[0m 2ms/step - loss: 0.0022 - mae: 0.0300 - val_loss: 0.0015 - val_mae: 0.0251\n",
      "Epoch 32/50\n",
      "\u001b[1m2633/2633\u001b[0m \u001b[32m━━━━━━━━━━━━━━━━━━━━\u001b[0m\u001b[37m\u001b[0m \u001b[1m5s\u001b[0m 2ms/step - loss: 0.0022 - mae: 0.0301 - val_loss: 0.0022 - val_mae: 0.0362\n",
      "Epoch 33/50\n",
      "\u001b[1m2633/2633\u001b[0m \u001b[32m━━━━━━━━━━━━━━━━━━━━\u001b[0m\u001b[37m\u001b[0m \u001b[1m5s\u001b[0m 2ms/step - loss: 0.0022 - mae: 0.0297 - val_loss: 0.0020 - val_mae: 0.0319\n",
      "Epoch 34/50\n",
      "\u001b[1m2633/2633\u001b[0m \u001b[32m━━━━━━━━━━━━━━━━━━━━\u001b[0m\u001b[37m\u001b[0m \u001b[1m5s\u001b[0m 2ms/step - loss: 0.0023 - mae: 0.0304 - val_loss: 0.0015 - val_mae: 0.0255\n",
      "Epoch 35/50\n",
      "\u001b[1m2633/2633\u001b[0m \u001b[32m━━━━━━━━━━━━━━━━━━━━\u001b[0m\u001b[37m\u001b[0m \u001b[1m5s\u001b[0m 2ms/step - loss: 0.0022 - mae: 0.0297 - val_loss: 0.0031 - val_mae: 0.0362\n",
      "Epoch 36/50\n",
      "\u001b[1m2633/2633\u001b[0m \u001b[32m━━━━━━━━━━━━━━━━━━━━\u001b[0m\u001b[37m\u001b[0m \u001b[1m5s\u001b[0m 2ms/step - loss: 0.0022 - mae: 0.0299 - val_loss: 0.0020 - val_mae: 0.0337\n",
      "Epoch 37/50\n",
      "\u001b[1m2633/2633\u001b[0m \u001b[32m━━━━━━━━━━━━━━━━━━━━\u001b[0m\u001b[37m\u001b[0m \u001b[1m5s\u001b[0m 2ms/step - loss: 0.0021 - mae: 0.0296 - val_loss: 0.0022 - val_mae: 0.0369\n",
      "Epoch 38/50\n",
      "\u001b[1m2633/2633\u001b[0m \u001b[32m━━━━━━━━━━━━━━━━━━━━\u001b[0m\u001b[37m\u001b[0m \u001b[1m5s\u001b[0m 2ms/step - loss: 0.0022 - mae: 0.0302 - val_loss: 0.0022 - val_mae: 0.0356\n",
      "Epoch 39/50\n",
      "\u001b[1m2633/2633\u001b[0m \u001b[32m━━━━━━━━━━━━━━━━━━━━\u001b[0m\u001b[37m\u001b[0m \u001b[1m5s\u001b[0m 2ms/step - loss: 0.0021 - mae: 0.0296 - val_loss: 0.0017 - val_mae: 0.0302\n",
      "Epoch 40/50\n",
      "\u001b[1m2633/2633\u001b[0m \u001b[32m━━━━━━━━━━━━━━━━━━━━\u001b[0m\u001b[37m\u001b[0m \u001b[1m5s\u001b[0m 2ms/step - loss: 0.0022 - mae: 0.0298 - val_loss: 0.0016 - val_mae: 0.0263\n",
      "Epoch 41/50\n",
      "\u001b[1m2633/2633\u001b[0m \u001b[32m━━━━━━━━━━━━━━━━━━━━\u001b[0m\u001b[37m\u001b[0m \u001b[1m5s\u001b[0m 2ms/step - loss: 0.0022 - mae: 0.0296 - val_loss: 0.0016 - val_mae: 0.0301\n",
      "Epoch 42/50\n",
      "\u001b[1m2633/2633\u001b[0m \u001b[32m━━━━━━━━━━━━━━━━━━━━\u001b[0m\u001b[37m\u001b[0m \u001b[1m5s\u001b[0m 2ms/step - loss: 0.0021 - mae: 0.0296 - val_loss: 0.0017 - val_mae: 0.0297\n",
      "Epoch 43/50\n",
      "\u001b[1m2633/2633\u001b[0m \u001b[32m━━━━━━━━━━━━━━━━━━━━\u001b[0m\u001b[37m\u001b[0m \u001b[1m5s\u001b[0m 2ms/step - loss: 0.0021 - mae: 0.0295 - val_loss: 0.0013 - val_mae: 0.0242\n",
      "Epoch 44/50\n",
      "\u001b[1m2633/2633\u001b[0m \u001b[32m━━━━━━━━━━━━━━━━━━━━\u001b[0m\u001b[37m\u001b[0m \u001b[1m5s\u001b[0m 2ms/step - loss: 0.0022 - mae: 0.0297 - val_loss: 0.0020 - val_mae: 0.0306\n",
      "Epoch 45/50\n",
      "\u001b[1m2633/2633\u001b[0m \u001b[32m━━━━━━━━━━━━━━━━━━━━\u001b[0m\u001b[37m\u001b[0m \u001b[1m5s\u001b[0m 2ms/step - loss: 0.0022 - mae: 0.0298 - val_loss: 0.0018 - val_mae: 0.0332\n",
      "Epoch 46/50\n",
      "\u001b[1m2633/2633\u001b[0m \u001b[32m━━━━━━━━━━━━━━━━━━━━\u001b[0m\u001b[37m\u001b[0m \u001b[1m5s\u001b[0m 2ms/step - loss: 0.0022 - mae: 0.0298 - val_loss: 0.0018 - val_mae: 0.0320\n",
      "Epoch 47/50\n",
      "\u001b[1m2633/2633\u001b[0m \u001b[32m━━━━━━━━━━━━━━━━━━━━\u001b[0m\u001b[37m\u001b[0m \u001b[1m5s\u001b[0m 2ms/step - loss: 0.0021 - mae: 0.0295 - val_loss: 0.0016 - val_mae: 0.0289\n",
      "Epoch 48/50\n",
      "\u001b[1m2633/2633\u001b[0m \u001b[32m━━━━━━━━━━━━━━━━━━━━\u001b[0m\u001b[37m\u001b[0m \u001b[1m5s\u001b[0m 2ms/step - loss: 0.0022 - mae: 0.0297 - val_loss: 0.0025 - val_mae: 0.0390\n",
      "Epoch 49/50\n",
      "\u001b[1m2633/2633\u001b[0m \u001b[32m━━━━━━━━━━━━━━━━━━━━\u001b[0m\u001b[37m\u001b[0m \u001b[1m5s\u001b[0m 2ms/step - loss: 0.0021 - mae: 0.0297 - val_loss: 0.0016 - val_mae: 0.0270\n",
      "Epoch 50/50\n",
      "\u001b[1m2633/2633\u001b[0m \u001b[32m━━━━━━━━━━━━━━━━━━━━\u001b[0m\u001b[37m\u001b[0m \u001b[1m5s\u001b[0m 2ms/step - loss: 0.0022 - mae: 0.0298 - val_loss: 0.0015 - val_mae: 0.0271\n"
     ]
    }
   ],
   "source": [
    "history = model.fit(X_train, y_train, epochs=50, batch_size=50, validation_split=0.2)"
   ]
  },
  {
   "cell_type": "code",
   "execution_count": 27,
   "id": "f78e0d7d-6222-4b25-8e14-ac26bd36f5c2",
   "metadata": {},
   "outputs": [
    {
     "name": "stdout",
     "output_type": "stream",
     "text": [
      "\u001b[1m908/908\u001b[0m \u001b[32m━━━━━━━━━━━━━━━━━━━━\u001b[0m\u001b[37m\u001b[0m \u001b[1m1s\u001b[0m 721us/step - loss: 0.0016 - mae: 0.0271\n",
      "MAE : 0.027035266160964966\n"
     ]
    }
   ],
   "source": [
    "loss, mae = model.evaluate(X_test, y_test)\n",
    "print(f\"MAE : {mae}\")"
   ]
  },
  {
   "cell_type": "code",
   "execution_count": 28,
   "id": "2da1c007-30fd-4bb2-8ef2-1b7ff2e8bcc0",
   "metadata": {},
   "outputs": [
    {
     "name": "stdout",
     "output_type": "stream",
     "text": [
      "\u001b[1m908/908\u001b[0m \u001b[32m━━━━━━━━━━━━━━━━━━━━\u001b[0m\u001b[37m\u001b[0m \u001b[1m1s\u001b[0m 749us/step\n"
     ]
    }
   ],
   "source": [
    "predictions = model.predict(X_test)"
   ]
  },
  {
   "cell_type": "markdown",
   "id": "89d0bf3a-07fa-41a8-a6ea-7a49419860f1",
   "metadata": {},
   "source": [
    "#### Scale back the normalized values"
   ]
  },
  {
   "cell_type": "code",
   "execution_count": 30,
   "id": "bd9da4b8-9bbf-43b4-8133-20ef1c17a870",
   "metadata": {},
   "outputs": [
    {
     "name": "stdout",
     "output_type": "stream",
     "text": [
      "Actual price: [473.]\n",
      "Predicted price: [1094.8735]\n",
      "Actual price: [15984.]\n",
      "Predicted price: [14712.116]\n",
      "Actual price: [14844.]\n",
      "Predicted price: [14496.705]\n",
      "Actual price: [1260.]\n",
      "Predicted price: [1748.8313]\n",
      "Actual price: [1334.]\n",
      "Predicted price: [1455.9861]\n",
      "Actual price: [491.]\n",
      "Predicted price: [1132.6498]\n"
     ]
    }
   ],
   "source": [
    "scaledback_predictions = scaler.inverse_transform(predictions)\n",
    "scaledback_labels = scaler.inverse_transform(y_test)\n",
    "\n",
    "for i in range(6):\n",
    "    print(\"Actual price:\", scaledback_labels[i])\n",
    "    print(\"Predicted price:\", scaledback_predictions[i])"
   ]
  },
  {
   "cell_type": "markdown",
   "id": "80a98f04-e05b-4441-b031-c92b01a4fa72",
   "metadata": {},
   "source": [
    "### Plot the performance of the model"
   ]
  },
  {
   "cell_type": "code",
   "execution_count": 32,
   "id": "d1dfe714-018f-43ff-9e83-7337b479ed23",
   "metadata": {},
   "outputs": [
    {
     "data": {
      "image/png": "[encoded data removed]",
      "text/plain": [
       "<Figure size 640x480 with 1 Axes>"
      ]
     },
     "metadata": {},
     "output_type": "display_data"
    }
   ],
   "source": [
    "plt.plot(history.history['loss'], label='Train_loss')\n",
    "plt.plot(history.history['val_loss'], label='Val_loss')\n",
    "plt.title('Model Loss')\n",
    "plt.ylabel('Loss')\n",
    "plt.xlabel('Epoch')\n",
    "plt.legend(loc='upper right')\n",
    "plt.show()"
   ]
  },
  {
   "cell_type": "code",
   "execution_count": 33,
   "id": "034d99bb-ef7f-4245-8fca-cb1208a26d8c",
   "metadata": {},
   "outputs": [
    {
     "data": {
      "image/png": "[encoded data removed]",
      "text/plain": [
       "<Figure size 640x480 with 1 Axes>"
      ]
     },
     "metadata": {},
     "output_type": "display_data"
    }
   ],
   "source": [
    "plt.plot(history.history['mae'], label='Train_mae')\n",
    "plt.plot(history.history['val_mae'], label='Val_mae')\n",
    "plt.title('Model MAE')\n",
    "plt.ylabel('Mean Absolute Error')\n",
    "plt.xlabel('Epoch')\n",
    "plt.legend(loc='upper right')\n",
    "plt.show()"
   ]
  }
 ],
 "metadata": {
  "kernelspec": {
   "display_name": "Python 3 (ipykernel)",
   "language": "python",
   "name": "python3"
  },
  "language_info": {
   "codemirror_mode": {
    "name": "ipython",
    "version": 3
   },
   "file_extension": ".py",
   "mimetype": "text/x-python",
   "name": "python",
   "nbconvert_exporter": "python",
   "pygments_lexer": "ipython3",
   "version": "3.11.7"
  }
 },
 "nbformat": 4,
 "nbformat_minor": 5
}
